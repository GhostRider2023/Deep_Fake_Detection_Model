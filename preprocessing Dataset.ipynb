{
  "cells": [
    {
      "cell_type": "markdown",
      "metadata": {
        "id": "nMI7CYxcyiUB"
      },
      "source": [
        "Before running the file Upload all your data set on your goole drive in a zip format"
      ]
    },
    {
      "cell_type": "code",
      "execution_count": null,
      "metadata": {
        "colab": {
          "base_uri": "https://localhost:8080/"
        },
        "id": "YjtnZQkTu6tX",
        "outputId": "83f1c136-e17a-457d-fcbd-aa3b99643e73"
      },
      "outputs": [
        {
          "name": "stdout",
          "output_type": "stream",
          "text": [
            "Drive already mounted at /content/drive; to attempt to forcibly remount, call drive.mount(\"/content/drive\", force_remount=True).\n"
          ]
        }
      ],
      "source": [
        "#Mount our google drive\n",
        "from google.colab import drive\n",
        "drive.mount('/content/drive')"
      ]
    },
    {
      "cell_type": "code",
      "execution_count": null,
      "metadata": {
        "colab": {
          "base_uri": "https://localhost:8080/"
        },
        "id": "1f40EeRuvAkO",
        "outputId": "672a3f32-aa62-4b97-ec97-91198c641497"
      },
      "outputs": [
        {
          "name": "stdout",
          "output_type": "stream",
          "text": [
            "frames [727, 217, 596, 901, 225, 292, 843, 1045, 727, 605, 843, 898, 504, 240, 737, 1279, 1076, 458, 499, 1278, 225, 641, 792, 821, 985, 991, 484, 632, 258, 627, 265, 1058, 633, 634, 1075, 262, 259, 995, 1280, 990, 1278, 776, 637, 458, 259, 208, 982, 1269, 574, 1082, 208, 685, 990, 960, 1453, 974, 839, 815, 713, 940, 533, 664, 960, 910, 795, 958, 446, 532, 711, 650, 446, 910, 839, 456, 940, 943, 943, 839, 713, 533, 534, 960, 531, 910, 955, 533, 710, 543, 796, 764, 862, 840, 810, 1447, 382, 810, 446, 481, 367, 471, 840, 861, 328, 932, 434, 840, 453, 669, 845, 875, 420, 810, 315, 816, 420, 1255, 405, 655, 405, 301, 260, 835, 586, 689, 621, 1239, 1246, 977, 315, 565, 686, 301, 625, 593, 661, 1358, 1255, 262, 720, 915, 1177, 687, 1180, 976, 684, 703, 532, 477, 1544, 1567, 1079, 580, 1002, 759, 704, 723, 560, 857, 563, 855, 422, 613, 744, 276, 707, 387, 403, 656, 543, 652, 541, 432, 591, 335, 579, 874, 965, 1489, 787, 860, 851, 560, 1045, 800, 626, 1085, 834, 610, 805, 371, 364, 855, 985, 591, 306, 661, 990, 820, 1076, 1020, 549, 577, 620, 744, 816, 1085, 405, 823, 955, 949, 839, 960, 1456, 854, 910, 1148, 499, 1217, 803, 717, 1465, 387, 585, 1380, 900, 932, 820, 341, 405, 875, 577, 518, 960, 835, 590, 847, 1080, 755, 632, 1185, 1255, 845, 880, 915, 723, 845, 678, 447, 751, 356, 1015, 1373, 875, 487, 830, 578, 568, 718, 995, 1111, 1620, 840, 786, 383, 694, 1094, 1100, 642, 885, 437, 724, 419, 698, 1015, 553, 975, 461, 820, 758, 703, 322, 1023, 1325, 940, 875, 790, 890, 1034, 1025, 1415, 999, 718, 800, 880, 855, 744, 1193, 1110, 960, 795, 748, 880, 845, 932, 892, 1020, 1012, 729, 815, 926, 1350, 518, 711, 1384, 952, 759, 539, 657, 1001, 878, 689, 955, 924, 1045, 775, 733, 672, 743, 655, 1335, 384, 609, 159, 955, 869, 1465, 970, 925, 1326, 1620, 1050, 865, 706, 429, 1430, 771, 629, 870, 1457, 558, 529, 880, 1330, 572, 549, 1391]\n",
            "Total number of videos:  356\n",
            "Average frame per video: 782.8370786516854\n"
          ]
        }
      ],
      "source": [
        "import json\n",
        "import glob\n",
        "import numpy as np\n",
        "import cv2\n",
        "import copy\n",
        "video_files =  glob.glob('/content/drive/MyDrive/Train_Deepfaskedataset/*.mp4')\n",
        "frame_count = []\n",
        "for video_file in video_files:\n",
        "  cap = cv2.VideoCapture(video_file)\n",
        "  if(int(cap.get(cv2.CAP_PROP_FRAME_COUNT))<150):\n",
        "    video_files.remove(video_file)\n",
        "    continue\n",
        "  frame_count.append(int(cap.get(cv2.CAP_PROP_FRAME_COUNT)))\n",
        "print(\"frames\" , frame_count)\n",
        "print(\"Total number of videos: \" , len(frame_count))\n",
        "print('Average frame per video:',np.mean(frame_count))"
      ]
    },
    {
      "cell_type": "code",
      "execution_count": null,
      "metadata": {
        "colab": {
          "base_uri": "https://localhost:8080/",
          "height": 487
        },
        "id": "5kuCGs3DPfGK",
        "outputId": "0021c5e6-7d07-4b3a-a07a-e71159d7efa3"
      },
      "outputs": [
        {
          "data": {
            "image/png": "[encoded data removed]",
            "text/plain": [
              "<Figure size 1000x500 with 1 Axes>"
            ]
          },
          "metadata": {},
          "output_type": "display_data"
        }
      ],
      "source": [
        "import matplotlib.pyplot as plt\n",
        "plt.figure(figsize=(10, 5))\n",
        "plt.hist(frame_count, bins=30, color='skyblue', edgecolor='black')\n",
        "plt.title('Frame Count Distribution of Videos')\n",
        "plt.xlabel('Number of Frames')\n",
        "plt.ylabel('Number of Videos')\n",
        "plt.grid(True)\n",
        "plt.show()\n"
      ]
    },
    {
      "cell_type": "code",
      "execution_count": null,
      "metadata": {
        "id": "oElgM4nHQuLB"
      },
      "outputs": [],
      "source": [
        "import torch\n",
        "import torchvision\n",
        "from torchvision import transforms"
      ]
    },
    {
      "cell_type": "code",
      "execution_count": null,
      "metadata": {
        "colab": {
          "base_uri": "https://localhost:8080/"
        },
        "id": "TgnU3k6WRoSe",
        "outputId": "bd53af2f-4b76-43ee-b45b-199ea12f1ded"
      },
      "outputs": [
        {
          "name": "stdout",
          "output_type": "stream",
          "text": [
            "Collecting face_recognition\n",
            "  Downloading face_recognition-1.3.0-py2.py3-none-any.whl.metadata (21 kB)\n",
            "Collecting face-recognition-models>=0.3.0 (from face_recognition)\n",
            "  Downloading face_recognition_models-0.3.0.tar.gz (100.1 MB)\n",
            "\u001b[2K     \u001b[90m━━━━━━━━━━━━━━━━━━━━━━━━━━━━━━━━━━━━━━━\u001b[0m \u001b[32m100.1/100.1 MB\u001b[0m \u001b[31m7.8 MB/s\u001b[0m eta \u001b[36m0:00:00\u001b[0m\n",
            "\u001b[?25h  Preparing metadata (setup.py) ... \u001b[?25l\u001b[?25hdone\n",
            "Requirement already satisfied: Click>=6.0 in /usr/local/lib/python3.11/dist-packages (from face_recognition) (8.2.1)\n",
            "Requirement already satisfied: dlib>=19.7 in /usr/local/lib/python3.11/dist-packages (from face_recognition) (19.24.6)\n",
            "Requirement already satisfied: numpy in /usr/local/lib/python3.11/dist-packages (from face_recognition) (1.26.4)\n",
            "Requirement already satisfied: Pillow in /usr/local/lib/python3.11/dist-packages (from face_recognition) (10.2.0)\n",
            "Downloading face_recognition-1.3.0-py2.py3-none-any.whl (15 kB)\n",
            "Building wheels for collected packages: face-recognition-models\n",
            "  Building wheel for face-recognition-models (setup.py) ... \u001b[?25l\u001b[?25hdone\n",
            "  Created wheel for face-recognition-models: filename=face_recognition_models-0.3.0-py2.py3-none-any.whl size=100566166 sha256=72d9e24b00459d95858c8367d5a4eb3173a8ed202570d2a489b9b4e5d5a6cd08\n",
            "  Stored in directory: /root/.cache/pip/wheels/04/52/ec/9355da79c29f160b038a20c784db2803c2f9fa2c8a462c176a\n",
            "Successfully built face-recognition-models\n",
            "Installing collected packages: face-recognition-models, face_recognition\n",
            "Successfully installed face-recognition-models-0.3.0 face_recognition-1.3.0\n"
          ]
        }
      ],
      "source": [
        "!pip install face_recognition"
      ]
    },
    {
      "cell_type": "code",
      "execution_count": null,
      "metadata": {
        "colab": {
          "base_uri": "https://localhost:8080/"
        },
        "id": "1JTU2hFQS3w4",
        "outputId": "3a439f5b-26c4-4310-eed6-33659c4145be"
      },
      "outputs": [
        {
          "name": "stdout",
          "output_type": "stream",
          "text": [
            "Requirement already satisfied: cmake in /usr/local/lib/python3.11/dist-packages (3.31.6)\n",
            "Requirement already satisfied: dlib in /usr/local/lib/python3.11/dist-packages (19.24.6)\n"
          ]
        }
      ],
      "source": [
        "!pip install cmake dlib"
      ]
    },
    {
      "cell_type": "code",
      "execution_count": null,
      "metadata": {
        "colab": {
          "base_uri": "https://localhost:8080/"
        },
        "id": "Ghc2U4AbRsWU",
        "outputId": "9aad14d0-5585-40ca-da9c-32a761c187a2"
      },
      "outputs": [
        {
          "name": "stdout",
          "output_type": "stream",
          "text": [
            "Requirement already satisfied: mtcnn in /usr/local/lib/python3.11/dist-packages (1.0.0)\n",
            "Requirement already satisfied: joblib>=1.4.2 in /usr/local/lib/python3.11/dist-packages (from mtcnn) (1.5.0)\n",
            "Requirement already satisfied: lz4>=4.3.3 in /usr/local/lib/python3.11/dist-packages (from mtcnn) (4.4.4)\n"
          ]
        }
      ],
      "source": [
        "!pip install mtcnn"
      ]
    },
    {
      "cell_type": "code",
      "execution_count": null,
      "metadata": {
        "colab": {
          "base_uri": "https://localhost:8080/"
        },
        "id": "Nm8LcgK3WtoG",
        "outputId": "feba866b-9010-452d-bfdf-eec591e3890e"
      },
      "outputs": [
        {
          "name": "stdout",
          "output_type": "stream",
          "text": [
            "Requirement already satisfied: facenet-pytorch in /usr/local/lib/python3.11/dist-packages (2.6.0)\n",
            "Requirement already satisfied: numpy<2.0.0,>=1.24.0 in /usr/local/lib/python3.11/dist-packages (from facenet-pytorch) (1.26.4)\n",
            "Requirement already satisfied: Pillow<10.3.0,>=10.2.0 in /usr/local/lib/python3.11/dist-packages (from facenet-pytorch) (10.2.0)\n",
            "Requirement already satisfied: requests<3.0.0,>=2.0.0 in /usr/local/lib/python3.11/dist-packages (from facenet-pytorch) (2.32.3)\n",
            "Requirement already satisfied: torch<2.3.0,>=2.2.0 in /usr/local/lib/python3.11/dist-packages (from facenet-pytorch) (2.2.2)\n",
            "Requirement already satisfied: torchvision<0.18.0,>=0.17.0 in /usr/local/lib/python3.11/dist-packages (from facenet-pytorch) (0.17.2)\n",
            "Requirement already satisfied: tqdm<5.0.0,>=4.0.0 in /usr/local/lib/python3.11/dist-packages (from facenet-pytorch) (4.67.1)\n",
            "Requirement already satisfied: charset-normalizer<4,>=2 in /usr/local/lib/python3.11/dist-packages (from requests<3.0.0,>=2.0.0->facenet-pytorch) (3.4.2)\n",
            "Requirement already satisfied: idna<4,>=2.5 in /usr/local/lib/python3.11/dist-packages (from requests<3.0.0,>=2.0.0->facenet-pytorch) (3.10)\n",
            "Requirement already satisfied: urllib3<3,>=1.21.1 in /usr/local/lib/python3.11/dist-packages (from requests<3.0.0,>=2.0.0->facenet-pytorch) (2.4.0)\n",
            "Requirement already satisfied: certifi>=2017.4.17 in /usr/local/lib/python3.11/dist-packages (from requests<3.0.0,>=2.0.0->facenet-pytorch) (2025.4.26)\n",
            "Requirement already satisfied: filelock in /usr/local/lib/python3.11/dist-packages (from torch<2.3.0,>=2.2.0->facenet-pytorch) (3.18.0)\n",
            "Requirement already satisfied: typing-extensions>=4.8.0 in /usr/local/lib/python3.11/dist-packages (from torch<2.3.0,>=2.2.0->facenet-pytorch) (4.13.2)\n",
            "Requirement already satisfied: sympy in /usr/local/lib/python3.11/dist-packages (from torch<2.3.0,>=2.2.0->facenet-pytorch) (1.13.1)\n",
            "Requirement already satisfied: networkx in /usr/local/lib/python3.11/dist-packages (from torch<2.3.0,>=2.2.0->facenet-pytorch) (3.4.2)\n",
            "Requirement already satisfied: jinja2 in /usr/local/lib/python3.11/dist-packages (from torch<2.3.0,>=2.2.0->facenet-pytorch) (3.1.6)\n",
            "Requirement already satisfied: fsspec in /usr/local/lib/python3.11/dist-packages (from torch<2.3.0,>=2.2.0->facenet-pytorch) (2025.3.2)\n",
            "Requirement already satisfied: nvidia-cuda-nvrtc-cu12==12.1.105 in /usr/local/lib/python3.11/dist-packages (from torch<2.3.0,>=2.2.0->facenet-pytorch) (12.1.105)\n",
            "Requirement already satisfied: nvidia-cuda-runtime-cu12==12.1.105 in /usr/local/lib/python3.11/dist-packages (from torch<2.3.0,>=2.2.0->facenet-pytorch) (12.1.105)\n",
            "Requirement already satisfied: nvidia-cuda-cupti-cu12==12.1.105 in /usr/local/lib/python3.11/dist-packages (from torch<2.3.0,>=2.2.0->facenet-pytorch) (12.1.105)\n",
            "Requirement already satisfied: nvidia-cudnn-cu12==8.9.2.26 in /usr/local/lib/python3.11/dist-packages (from torch<2.3.0,>=2.2.0->facenet-pytorch) (8.9.2.26)\n",
            "Requirement already satisfied: nvidia-cublas-cu12==12.1.3.1 in /usr/local/lib/python3.11/dist-packages (from torch<2.3.0,>=2.2.0->facenet-pytorch) (12.1.3.1)\n",
            "Requirement already satisfied: nvidia-cufft-cu12==11.0.2.54 in /usr/local/lib/python3.11/dist-packages (from torch<2.3.0,>=2.2.0->facenet-pytorch) (11.0.2.54)\n",
            "Requirement already satisfied: nvidia-curand-cu12==10.3.2.106 in /usr/local/lib/python3.11/dist-packages (from torch<2.3.0,>=2.2.0->facenet-pytorch) (10.3.2.106)\n",
            "Requirement already satisfied: nvidia-cusolver-cu12==11.4.5.107 in /usr/local/lib/python3.11/dist-packages (from torch<2.3.0,>=2.2.0->facenet-pytorch) (11.4.5.107)\n",
            "Requirement already satisfied: nvidia-cusparse-cu12==12.1.0.106 in /usr/local/lib/python3.11/dist-packages (from torch<2.3.0,>=2.2.0->facenet-pytorch) (12.1.0.106)\n",
            "Requirement already satisfied: nvidia-nccl-cu12==2.19.3 in /usr/local/lib/python3.11/dist-packages (from torch<2.3.0,>=2.2.0->facenet-pytorch) (2.19.3)\n",
            "Requirement already satisfied: nvidia-nvtx-cu12==12.1.105 in /usr/local/lib/python3.11/dist-packages (from torch<2.3.0,>=2.2.0->facenet-pytorch) (12.1.105)\n",
            "Requirement already satisfied: triton==2.2.0 in /usr/local/lib/python3.11/dist-packages (from torch<2.3.0,>=2.2.0->facenet-pytorch) (2.2.0)\n",
            "Requirement already satisfied: nvidia-nvjitlink-cu12 in /usr/local/lib/python3.11/dist-packages (from nvidia-cusolver-cu12==11.4.5.107->torch<2.3.0,>=2.2.0->facenet-pytorch) (12.5.82)\n",
            "Requirement already satisfied: MarkupSafe>=2.0 in /usr/local/lib/python3.11/dist-packages (from jinja2->torch<2.3.0,>=2.2.0->facenet-pytorch) (3.0.2)\n",
            "Requirement already satisfied: mpmath<1.4,>=1.1.0 in /usr/local/lib/python3.11/dist-packages (from sympy->torch<2.3.0,>=2.2.0->facenet-pytorch) (1.3.0)\n"
          ]
        }
      ],
      "source": [
        "!pip install facenet-pytorch"
      ]
    },
    {
      "cell_type": "code",
      "execution_count": null,
      "metadata": {
        "id": "R_v5ZUIIZmdi"
      },
      "outputs": [],
      "source": [
        "import os\n",
        "import cv2\n",
        "import torch\n",
        "from facenet_pytorch import MTCNN\n",
        "from tqdm import tqdm\n",
        "import glob"
      ]
    },
    {
      "cell_type": "code",
      "execution_count": null,
      "metadata": {
        "id": "xBw3mjw3aMEf"
      },
      "outputs": [],
      "source": [
        "input_dir = \"/content/drive/MyDrive/REAL_Face_data\"\n",
        "output_dir = \"/content/drive/MyDrive/Hello_World\"\n",
        "os.makedirs(output_dir, exist_ok=True)"
      ]
    },
    {
      "cell_type": "code",
      "execution_count": null,
      "metadata": {
        "colab": {
          "base_uri": "https://localhost:8080/"
        },
        "id": "0IoaVGbKZnNl",
        "outputId": "37ca0947-cac6-479a-b02e-14dc4f1a2b42"
      },
      "outputs": [
        {
          "name": "stderr",
          "output_type": "stream",
          "text": [
            "Processing videos:   2%|▏         | 1/53 [00:57<50:09, 57.87s/it]"
          ]
        },
        {
          "name": "stdout",
          "output_type": "stream",
          "text": [
            "Saved /content/drive/MyDrive/Hello_World/01__secret_conversation.mp4 with 37 face frames.\n"
          ]
        },
        {
          "name": "stderr",
          "output_type": "stream",
          "text": [
            "\rProcessing videos:   4%|▍         | 2/53 [01:32<37:21, 43.95s/it]"
          ]
        },
        {
          "name": "stdout",
          "output_type": "stream",
          "text": [
            "Saved /content/drive/MyDrive/Hello_World/01__talking_angry_couch.mp4 with 37 face frames.\n"
          ]
        },
        {
          "name": "stderr",
          "output_type": "stream",
          "text": [
            "\rProcessing videos:   6%|▌         | 3/53 [02:13<35:30, 42.61s/it]"
          ]
        },
        {
          "name": "stdout",
          "output_type": "stream",
          "text": [
            "Saved /content/drive/MyDrive/Hello_World/01__hugging_happy.mp4 with 37 face frames.\n"
          ]
        },
        {
          "name": "stderr",
          "output_type": "stream",
          "text": [
            "\rProcessing videos:   8%|▊         | 4/53 [02:49<32:44, 40.10s/it]"
          ]
        },
        {
          "name": "stdout",
          "output_type": "stream",
          "text": [
            "Saved /content/drive/MyDrive/Hello_World/01__talking_against_wall.mp4 with 37 face frames.\n"
          ]
        },
        {
          "name": "stderr",
          "output_type": "stream",
          "text": [
            "\rProcessing videos:   9%|▉         | 5/53 [03:31<32:43, 40.91s/it]"
          ]
        },
        {
          "name": "stdout",
          "output_type": "stream",
          "text": [
            "Saved /content/drive/MyDrive/Hello_World/01__outside_talking_still_laughing.mp4 with 37 face frames.\n"
          ]
        },
        {
          "name": "stderr",
          "output_type": "stream",
          "text": [
            "\rProcessing videos:  11%|█▏        | 6/53 [04:09<31:09, 39.77s/it]"
          ]
        },
        {
          "name": "stdout",
          "output_type": "stream",
          "text": [
            "Saved /content/drive/MyDrive/Hello_World/01__kitchen_pan.mp4 with 37 face frames.\n"
          ]
        },
        {
          "name": "stderr",
          "output_type": "stream",
          "text": [
            "\rProcessing videos:  13%|█▎        | 7/53 [04:45<29:32, 38.54s/it]"
          ]
        },
        {
          "name": "stdout",
          "output_type": "stream",
          "text": [
            "Saved /content/drive/MyDrive/Hello_World/01__meeting_serious.mp4 with 37 face frames.\n"
          ]
        },
        {
          "name": "stderr",
          "output_type": "stream",
          "text": [
            "\rProcessing videos:  15%|█▌        | 8/53 [05:23<28:55, 38.57s/it]"
          ]
        },
        {
          "name": "stdout",
          "output_type": "stream",
          "text": [
            "Saved /content/drive/MyDrive/Hello_World/01__kitchen_still.mp4 with 37 face frames.\n"
          ]
        },
        {
          "name": "stderr",
          "output_type": "stream",
          "text": [
            "\rProcessing videos:  17%|█▋        | 9/53 [06:08<29:40, 40.46s/it]"
          ]
        },
        {
          "name": "stdout",
          "output_type": "stream",
          "text": [
            "Saved /content/drive/MyDrive/Hello_World/01__outside_talking_pan_laughing.mp4 with 35 face frames.\n"
          ]
        },
        {
          "name": "stderr",
          "output_type": "stream",
          "text": [
            "\rProcessing videos:  19%|█▉        | 10/53 [07:05<32:41, 45.62s/it]"
          ]
        },
        {
          "name": "stdout",
          "output_type": "stream",
          "text": [
            "Saved /content/drive/MyDrive/Hello_World/01__walking_and_outside_surprised.mp4 with 37 face frames.\n"
          ]
        },
        {
          "name": "stderr",
          "output_type": "stream",
          "text": [
            "\rProcessing videos:  21%|██        | 11/53 [07:40<29:42, 42.45s/it]"
          ]
        },
        {
          "name": "stdout",
          "output_type": "stream",
          "text": [
            "Saved /content/drive/MyDrive/Hello_World/01__walking_down_indoor_hall_disgust.mp4 with 37 face frames.\n"
          ]
        },
        {
          "name": "stderr",
          "output_type": "stream",
          "text": [
            "\rProcessing videos:  23%|██▎       | 12/53 [08:35<31:26, 46.02s/it]"
          ]
        },
        {
          "name": "stdout",
          "output_type": "stream",
          "text": [
            "Saved /content/drive/MyDrive/Hello_World/01__walking_down_street_outside_angry.mp4 with 37 face frames.\n"
          ]
        },
        {
          "name": "stderr",
          "output_type": "stream",
          "text": [
            "\rProcessing videos:  25%|██▍       | 13/53 [09:12<29:01, 43.55s/it]"
          ]
        },
        {
          "name": "stdout",
          "output_type": "stream",
          "text": [
            "Saved /content/drive/MyDrive/Hello_World/02__hugging_happy.mp4 with 37 face frames.\n"
          ]
        },
        {
          "name": "stderr",
          "output_type": "stream",
          "text": [
            "\rProcessing videos:  26%|██▋       | 14/53 [09:47<26:30, 40.79s/it]"
          ]
        },
        {
          "name": "stdout",
          "output_type": "stream",
          "text": [
            "Saved /content/drive/MyDrive/Hello_World/01__walk_down_hall_angry.mp4 with 37 face frames.\n"
          ]
        },
        {
          "name": "stderr",
          "output_type": "stream",
          "text": [
            "\rProcessing videos:  28%|██▊       | 15/53 [10:20<24:23, 38.50s/it]"
          ]
        },
        {
          "name": "stdout",
          "output_type": "stream",
          "text": [
            "Saved /content/drive/MyDrive/Hello_World/02__exit_phone_room.mp4 with 37 face frames.\n"
          ]
        },
        {
          "name": "stderr",
          "output_type": "stream",
          "text": [
            "\rProcessing videos:  30%|███       | 16/53 [11:01<24:07, 39.12s/it]"
          ]
        },
        {
          "name": "stdout",
          "output_type": "stream",
          "text": [
            "Saved /content/drive/MyDrive/Hello_World/02__kitchen_still.mp4 with 37 face frames.\n"
          ]
        },
        {
          "name": "stderr",
          "output_type": "stream",
          "text": [
            "\rProcessing videos:  32%|███▏      | 17/53 [11:41<23:38, 39.40s/it]"
          ]
        },
        {
          "name": "stdout",
          "output_type": "stream",
          "text": [
            "Saved /content/drive/MyDrive/Hello_World/02__meeting_serious.mp4 with 37 face frames.\n"
          ]
        },
        {
          "name": "stderr",
          "output_type": "stream",
          "text": [
            "\rProcessing videos:  34%|███▍      | 18/53 [12:17<22:25, 38.44s/it]"
          ]
        },
        {
          "name": "stdout",
          "output_type": "stream",
          "text": [
            "Saved /content/drive/MyDrive/Hello_World/02__kitchen_pan.mp4 with 34 face frames.\n"
          ]
        },
        {
          "name": "stderr",
          "output_type": "stream",
          "text": [
            "\rProcessing videos:  36%|███▌      | 19/53 [13:05<23:22, 41.24s/it]"
          ]
        },
        {
          "name": "stdout",
          "output_type": "stream",
          "text": [
            "Saved /content/drive/MyDrive/Hello_World/01__walking_outside_cafe_disgusted.mp4 with 37 face frames.\n"
          ]
        },
        {
          "name": "stderr",
          "output_type": "stream",
          "text": [
            "\rProcessing videos:  38%|███▊      | 20/53 [13:42<22:00, 40.02s/it]"
          ]
        },
        {
          "name": "stdout",
          "output_type": "stream",
          "text": [
            "Saved /content/drive/MyDrive/Hello_World/02__outside_talking_pan_laughing.mp4 with 37 face frames.\n"
          ]
        },
        {
          "name": "stderr",
          "output_type": "stream",
          "text": [
            "\rProcessing videos:  40%|███▉      | 21/53 [14:19<20:53, 39.17s/it]"
          ]
        },
        {
          "name": "stdout",
          "output_type": "stream",
          "text": [
            "Saved /content/drive/MyDrive/Hello_World/02__outside_talking_still_laughing.mp4 with 37 face frames.\n"
          ]
        },
        {
          "name": "stderr",
          "output_type": "stream",
          "text": [
            "\rProcessing videos:  42%|████▏     | 22/53 [14:57<20:04, 38.85s/it]"
          ]
        },
        {
          "name": "stdout",
          "output_type": "stream",
          "text": [
            "Saved /content/drive/MyDrive/Hello_World/03__kitchen_pan.mp4 with 35 face frames.\n"
          ]
        },
        {
          "name": "stderr",
          "output_type": "stream",
          "text": [
            "\rProcessing videos:  43%|████▎     | 23/53 [15:32<18:48, 37.63s/it]"
          ]
        },
        {
          "name": "stdout",
          "output_type": "stream",
          "text": [
            "Saved /content/drive/MyDrive/Hello_World/03__exit_phone_room.mp4 with 37 face frames.\n"
          ]
        },
        {
          "name": "stderr",
          "output_type": "stream",
          "text": [
            "\rProcessing videos:  45%|████▌     | 24/53 [16:06<17:43, 36.68s/it]"
          ]
        },
        {
          "name": "stdout",
          "output_type": "stream",
          "text": [
            "Saved /content/drive/MyDrive/Hello_World/03__hugging_happy.mp4 with 37 face frames.\n"
          ]
        },
        {
          "name": "stderr",
          "output_type": "stream",
          "text": [
            "\rProcessing videos:  47%|████▋     | 25/53 [16:47<17:42, 37.93s/it]"
          ]
        },
        {
          "name": "stdout",
          "output_type": "stream",
          "text": [
            "Saved /content/drive/MyDrive/Hello_World/03__kitchen_still.mp4 with 37 face frames.\n"
          ]
        },
        {
          "name": "stderr",
          "output_type": "stream",
          "text": [
            "\rProcessing videos:  49%|████▉     | 26/53 [17:22<16:40, 37.05s/it]"
          ]
        },
        {
          "name": "stdout",
          "output_type": "stream",
          "text": [
            "Saved /content/drive/MyDrive/Hello_World/03__outside_talking_still_laughing.mp4 with 37 face frames.\n"
          ]
        },
        {
          "name": "stderr",
          "output_type": "stream",
          "text": [
            "\rProcessing videos:  51%|█████     | 27/53 [17:58<15:53, 36.67s/it]"
          ]
        },
        {
          "name": "stdout",
          "output_type": "stream",
          "text": [
            "Saved /content/drive/MyDrive/Hello_World/03__podium_speech_happy.mp4 with 37 face frames.\n"
          ]
        },
        {
          "name": "stderr",
          "output_type": "stream",
          "text": [
            "\rProcessing videos:  53%|█████▎    | 28/53 [18:37<15:30, 37.23s/it]"
          ]
        },
        {
          "name": "stdout",
          "output_type": "stream",
          "text": [
            "Saved /content/drive/MyDrive/Hello_World/03__meeting_serious.mp4 with 37 face frames.\n"
          ]
        },
        {
          "name": "stderr",
          "output_type": "stream",
          "text": [
            "\rProcessing videos:  55%|█████▍    | 29/53 [19:16<15:08, 37.86s/it]"
          ]
        },
        {
          "name": "stdout",
          "output_type": "stream",
          "text": [
            "Saved /content/drive/MyDrive/Hello_World/03__talking_angry_couch.mp4 with 37 face frames.\n"
          ]
        },
        {
          "name": "stderr",
          "output_type": "stream",
          "text": [
            "\rProcessing videos:  57%|█████▋    | 30/53 [20:08<16:08, 42.11s/it]"
          ]
        },
        {
          "name": "stdout",
          "output_type": "stream",
          "text": [
            "Saved /content/drive/MyDrive/Hello_World/03__secret_conversation.mp4 with 37 face frames.\n"
          ]
        },
        {
          "name": "stderr",
          "output_type": "stream",
          "text": [
            "\rProcessing videos:  58%|█████▊    | 31/53 [20:43<14:39, 39.99s/it]"
          ]
        },
        {
          "name": "stdout",
          "output_type": "stream",
          "text": [
            "Saved /content/drive/MyDrive/Hello_World/03__talking_against_wall.mp4 with 37 face frames.\n"
          ]
        },
        {
          "name": "stderr",
          "output_type": "stream",
          "text": [
            "\rProcessing videos:  60%|██████    | 32/53 [21:24<14:06, 40.33s/it]"
          ]
        },
        {
          "name": "stdout",
          "output_type": "stream",
          "text": [
            "Saved /content/drive/MyDrive/Hello_World/03__walking_and_outside_surprised.mp4 with 37 face frames.\n"
          ]
        },
        {
          "name": "stderr",
          "output_type": "stream",
          "text": [
            "\rProcessing videos:  62%|██████▏   | 33/53 [22:02<13:12, 39.60s/it]"
          ]
        },
        {
          "name": "stdout",
          "output_type": "stream",
          "text": [
            "Saved /content/drive/MyDrive/Hello_World/04__kitchen_pan.mp4 with 34 face frames.\n"
          ]
        },
        {
          "name": "stderr",
          "output_type": "stream",
          "text": [
            "\rProcessing videos:  64%|██████▍   | 34/53 [22:53<13:38, 43.07s/it]"
          ]
        },
        {
          "name": "stdout",
          "output_type": "stream",
          "text": [
            "Saved /content/drive/MyDrive/Hello_World/03__walking_down_street_outside_angry.mp4 with 37 face frames.\n"
          ]
        },
        {
          "name": "stderr",
          "output_type": "stream",
          "text": [
            "\rProcessing videos:  66%|██████▌   | 35/53 [23:30<12:21, 41.18s/it]"
          ]
        },
        {
          "name": "stdout",
          "output_type": "stream",
          "text": [
            "Saved /content/drive/MyDrive/Hello_World/04__outside_talking_pan_laughing.mp4 with 36 face frames.\n"
          ]
        },
        {
          "name": "stderr",
          "output_type": "stream",
          "text": [
            "\rProcessing videos:  68%|██████▊   | 36/53 [24:07<11:21, 40.08s/it]"
          ]
        },
        {
          "name": "stdout",
          "output_type": "stream",
          "text": [
            "Saved /content/drive/MyDrive/Hello_World/03__walking_outside_cafe_disgusted.mp4 with 37 face frames.\n"
          ]
        },
        {
          "name": "stderr",
          "output_type": "stream",
          "text": [
            "\rProcessing videos:  70%|██████▉   | 37/53 [24:50<10:55, 40.97s/it]"
          ]
        },
        {
          "name": "stdout",
          "output_type": "stream",
          "text": [
            "Saved /content/drive/MyDrive/Hello_World/03__walking_down_indoor_hall_disgust.mp4 with 37 face frames.\n"
          ]
        },
        {
          "name": "stderr",
          "output_type": "stream",
          "text": [
            "\rProcessing videos:  72%|███████▏  | 38/53 [25:25<09:44, 38.99s/it]"
          ]
        },
        {
          "name": "stdout",
          "output_type": "stream",
          "text": [
            "Saved /content/drive/MyDrive/Hello_World/04__exit_phone_room.mp4 with 37 face frames.\n"
          ]
        },
        {
          "name": "stderr",
          "output_type": "stream",
          "text": [
            "\rProcessing videos:  74%|███████▎  | 39/53 [25:57<08:36, 36.88s/it]"
          ]
        },
        {
          "name": "stdout",
          "output_type": "stream",
          "text": [
            "Saved /content/drive/MyDrive/Hello_World/03__walk_down_hall_angry.mp4 with 37 face frames.\n"
          ]
        },
        {
          "name": "stderr",
          "output_type": "stream",
          "text": [
            "\rProcessing videos:  75%|███████▌  | 40/53 [26:35<08:04, 37.30s/it]"
          ]
        },
        {
          "name": "stdout",
          "output_type": "stream",
          "text": [
            "Saved /content/drive/MyDrive/Hello_World/04__talking_angry_couch.mp4 with 37 face frames.\n"
          ]
        },
        {
          "name": "stderr",
          "output_type": "stream",
          "text": [
            "\rProcessing videos:  77%|███████▋  | 41/53 [27:12<07:27, 37.33s/it]"
          ]
        },
        {
          "name": "stdout",
          "output_type": "stream",
          "text": [
            "Saved /content/drive/MyDrive/Hello_World/04__talking_against_wall.mp4 with 37 face frames.\n"
          ]
        },
        {
          "name": "stderr",
          "output_type": "stream",
          "text": [
            "\rProcessing videos:  79%|███████▉  | 42/53 [27:47<06:41, 36.49s/it]"
          ]
        },
        {
          "name": "stdout",
          "output_type": "stream",
          "text": [
            "Saved /content/drive/MyDrive/Hello_World/04__podium_speech_happy.mp4 with 37 face frames.\n"
          ]
        },
        {
          "name": "stderr",
          "output_type": "stream",
          "text": [
            "\rProcessing videos:  81%|████████  | 43/53 [28:23<06:04, 36.40s/it]"
          ]
        },
        {
          "name": "stdout",
          "output_type": "stream",
          "text": [
            "Saved /content/drive/MyDrive/Hello_World/05__hugging_happy.mp4 with 37 face frames.\n"
          ]
        },
        {
          "name": "stderr",
          "output_type": "stream",
          "text": [
            "\rProcessing videos:  83%|████████▎ | 44/53 [28:57<05:21, 35.75s/it]"
          ]
        },
        {
          "name": "stdout",
          "output_type": "stream",
          "text": [
            "Saved /content/drive/MyDrive/Hello_World/04__walk_down_hall_angry.mp4 with 37 face frames.\n"
          ]
        },
        {
          "name": "stderr",
          "output_type": "stream",
          "text": [
            "\rProcessing videos:  85%|████████▍ | 45/53 [29:33<04:45, 35.64s/it]"
          ]
        },
        {
          "name": "stdout",
          "output_type": "stream",
          "text": [
            "Saved /content/drive/MyDrive/Hello_World/04__walking_outside_cafe_disgusted.mp4 with 37 face frames.\n"
          ]
        },
        {
          "name": "stderr",
          "output_type": "stream",
          "text": [
            "\rProcessing videos:  87%|████████▋ | 46/53 [30:15<04:23, 37.65s/it]"
          ]
        },
        {
          "name": "stdout",
          "output_type": "stream",
          "text": [
            "Saved /content/drive/MyDrive/Hello_World/05__kitchen_still.mp4 with 37 face frames.\n"
          ]
        },
        {
          "name": "stderr",
          "output_type": "stream",
          "text": [
            "\rProcessing videos:  89%|████████▊ | 47/53 [31:04<04:05, 40.89s/it]"
          ]
        },
        {
          "name": "stdout",
          "output_type": "stream",
          "text": [
            "Saved /content/drive/MyDrive/Hello_World/04__walking_down_street_outside_angry.mp4 with 37 face frames.\n"
          ]
        },
        {
          "name": "stderr",
          "output_type": "stream",
          "text": [
            "\rProcessing videos:  91%|█████████ | 48/53 [31:37<03:13, 38.71s/it]"
          ]
        },
        {
          "name": "stdout",
          "output_type": "stream",
          "text": [
            "Saved /content/drive/MyDrive/Hello_World/05__exit_phone_room.mp4 with 37 face frames.\n"
          ]
        },
        {
          "name": "stderr",
          "output_type": "stream",
          "text": [
            "\rProcessing videos:  92%|█████████▏| 49/53 [32:13<02:31, 37.91s/it]"
          ]
        },
        {
          "name": "stdout",
          "output_type": "stream",
          "text": [
            "Saved /content/drive/MyDrive/Hello_World/05__outside_talking_still_laughing.mp4 with 37 face frames.\n"
          ]
        },
        {
          "name": "stderr",
          "output_type": "stream",
          "text": [
            "\rProcessing videos:  94%|█████████▍| 50/53 [32:51<01:53, 37.73s/it]"
          ]
        },
        {
          "name": "stdout",
          "output_type": "stream",
          "text": [
            "Saved /content/drive/MyDrive/Hello_World/05__talking_against_wall.mp4 with 37 face frames.\n"
          ]
        },
        {
          "name": "stderr",
          "output_type": "stream",
          "text": [
            "\rProcessing videos:  96%|█████████▌| 51/53 [33:23<01:12, 36.10s/it]"
          ]
        },
        {
          "name": "stdout",
          "output_type": "stream",
          "text": [
            "Saved /content/drive/MyDrive/Hello_World/05__walk_down_hall_angry.mp4 with 36 face frames.\n"
          ]
        },
        {
          "name": "stderr",
          "output_type": "stream",
          "text": [
            "\rProcessing videos:  98%|█████████▊| 52/53 [33:57<00:35, 35.58s/it]"
          ]
        },
        {
          "name": "stdout",
          "output_type": "stream",
          "text": [
            "Saved /content/drive/MyDrive/Hello_World/05__podium_speech_happy.mp4 with 37 face frames.\n"
          ]
        },
        {
          "name": "stderr",
          "output_type": "stream",
          "text": [
            "Processing videos: 100%|██████████| 53/53 [34:36<00:00, 39.19s/it]"
          ]
        },
        {
          "name": "stdout",
          "output_type": "stream",
          "text": [
            "Saved /content/drive/MyDrive/Hello_World/05__outside_talking_pan_laughing.mp4 with 36 face frames.\n"
          ]
        },
        {
          "name": "stderr",
          "output_type": "stream",
          "text": [
            "\n"
          ]
        }
      ],
      "source": [
        "device = torch.device('cuda:0' if torch.cuda.is_available() else 'cpu')\n",
        "mtcnn = MTCNN(keep_all=True, device=device)\n",
        "video_paths = glob.glob(os.path.join(input_dir, \"*.mp4\"))\n",
        "for video_path in tqdm(video_paths, desc=\"Processing videos\"):\n",
        "    try:\n",
        "        filename = os.path.basename(video_path)\n",
        "        output_path = os.path.join(output_dir, filename)\n",
        "\n",
        "        if os.path.exists(output_path):\n",
        "            print(f\"Skipping {filename}: output already exists.\")\n",
        "            continue\n",
        "        cap = cv2.VideoCapture(video_path)\n",
        "        if not cap.isOpened():\n",
        "            print(f\"Failed to open {filename}. Skipping.\")\n",
        "            continue\n",
        "        fps = cap.get(cv2.CAP_PROP_FPS)\n",
        "        if fps is None or fps <= 0:\n",
        "            fps = 30.0\n",
        "        face_frames = []\n",
        "        frame_count = 0\n",
        "        max_frames = 150\n",
        "        while frame_count < max_frames:\n",
        "            ret, frame = cap.read()\n",
        "            if not ret:\n",
        "                break\n",
        "            frame_count += 1\n",
        "            if frame_count % 4 != 0:\n",
        "               continue\n",
        "            rgb_frame = cv2.cvtColor(frame, cv2.COLOR_BGR2RGB)\n",
        "            boxes, _ = mtcnn.detect(rgb_frame)\n",
        "            if boxes is not None:\n",
        "                areas = [(b[2] - b[0]) * (b[3] - b[1]) for b in boxes]\n",
        "                max_idx = int(areas.index(max(areas)))\n",
        "                x1, y1, x2, y2 = boxes[max_idx].astype(int)\n",
        "                x1, y1 = max(0, x1), max(0, y1)\n",
        "                x2 = min(frame.shape[1], x2)\n",
        "                y2 = min(frame.shape[0], y2)\n",
        "\n",
        "                if x2 > x1 and y2 > y1:\n",
        "                    face = frame[y1:y2, x1:x2]\n",
        "                    face = cv2.resize(face, (112, 112))\n",
        "                    face_frames.append(face)\n",
        "        cap.release()\n",
        "        if len(face_frames) > 0:\n",
        "            fourcc = cv2.VideoWriter_fourcc(*'mp4v')\n",
        "            out = cv2.VideoWriter(output_path, fourcc, fps, (112, 112))\n",
        "            for f in face_frames:\n",
        "                out.write(f)\n",
        "            out.release()\n",
        "            print(f\"Saved {output_path} with {len(face_frames)} face frames.\")\n",
        "        else:\n",
        "            print(f\"No faces found in {filename}. Output not created.\")\n",
        "    except Exception as e:\n",
        "        print(f\"Error processing {filename}: {e}\")\n",
        "        continue"
      ]
    },
    {
      "cell_type": "code",
      "execution_count": null,
      "metadata": {
        "id": "EQbh9nfjZnXz"
      },
      "outputs": [],
      "source": []
    }
  ],
  "metadata": {
    "accelerator": "GPU",
    "colab": {
      "gpuType": "T4",
      "provenance": []
    },
    "kernelspec": {
      "display_name": "Python 3",
      "name": "python3"
    }
  },
  "nbformat": 4,
  "nbformat_minor": 0
}
